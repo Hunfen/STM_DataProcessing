{
 "cells": [
  {
   "cell_type": "code",
   "execution_count": 5,
   "metadata": {},
   "outputs": [],
   "source": [
    "import numpy as np"
   ]
  },
  {
   "cell_type": "code",
   "execution_count": 6,
   "metadata": {},
   "outputs": [],
   "source": [
    "f_path: str = '/Users/hunfen/Documents/Experimental/STM1500_data/2021/2021-07-27/Topography004.sxm'\n",
    "from Nanonis_loader import loader\n",
    "a = loader(f_path)"
   ]
  },
  {
   "cell_type": "code",
   "execution_count": 7,
   "metadata": {},
   "outputs": [
    {
     "data": {
      "text/plain": [
       "{'REC_DATE': '27.07.2021',\n",
       " 'REC_TIME': '09:32:29',\n",
       " 'ACQ_TIME': 1023.8,\n",
       " 'SCAN_FILE': 'C:\\\\Users\\\\Touru Hirahara\\\\Desktop\\\\data\\\\2021\\\\2021-07-26\\\\Topography004.sxm',\n",
       " 'SCAN_DIR': 'down',\n",
       " 'BIAS': 1.0,\n",
       " 'Z-CONTROLLER': {'Name': 'log Current',\n",
       "  'on': 1.0,\n",
       "  'Setpoint': '3.000E-10 A',\n",
       "  'P-gain': '2.500E-12 m',\n",
       "  'I-gain': '1.000E-7 m/s',\n",
       "  'T-const': '2.500E-5 s'},\n",
       " 'COMMENT': '',\n",
       " 'Scan>Scanfield': (4.37222e-08, 1.87494e-07, 3e-08, 3e-08, 0.0),\n",
       " 'Scan>pixels/line': 256.0,\n",
       " 'Scan>lines': 256.0,\n",
       " 'Scan>speed forw. (m/s)': 1.5024e-08,\n",
       " 'Scan>speed backw. (m/s)': 1.5024e-08,\n",
       " 'DATA_INFO': {'Z': {'Channel': 14.0,\n",
       "   'Unit': 'm',\n",
       "   'Direction': 'both',\n",
       "   'Calibration': 1.33e-08,\n",
       "   'Offset': 0.0},\n",
       "  'Current': {'Channel': 0.0,\n",
       "   'Unit': 'A',\n",
       "   'Direction': 'both',\n",
       "   'Calibration': 1e-10,\n",
       "   'Offset': 2.348e-13},\n",
       "  'LI_Demod_1_X': {'Channel': 17.0,\n",
       "   'Unit': 'A',\n",
       "   'Direction': 'both',\n",
       "   'Calibration': 1e-10,\n",
       "   'Offset': 0.0},\n",
       "  'LI_Demod_1_Y': {'Channel': 18.0,\n",
       "   'Unit': 'A',\n",
       "   'Direction': 'both',\n",
       "   'Calibration': 1e-10,\n",
       "   'Offset': 0.0}}}"
      ]
     },
     "execution_count": 7,
     "metadata": {},
     "output_type": "execute_result"
    }
   ],
   "source": [
    "a.header"
   ]
  },
  {
   "cell_type": "code",
   "execution_count": 8,
   "metadata": {},
   "outputs": [
    {
     "data": {
      "text/plain": [
       "(8, 256, 256)"
      ]
     },
     "execution_count": 8,
     "metadata": {},
     "output_type": "execute_result"
    }
   ],
   "source": [
    "a.data.shape"
   ]
  },
  {
   "cell_type": "code",
   "execution_count": 9,
   "metadata": {},
   "outputs": [
    {
     "data": {
      "text/plain": [
       "(True, False, True, False, True, False, True, False)"
      ]
     },
     "execution_count": 9,
     "metadata": {},
     "output_type": "execute_result"
    }
   ],
   "source": [
    "a.channel_dir"
   ]
  },
  {
   "cell_type": "code",
   "execution_count": null,
   "metadata": {},
   "outputs": [],
   "source": [
    "fig, ax = plt.subplots(figsize = (3.375, 3.375))\n",
    "\n",
    "ax.imshow(a.data[0], cmap = gwyddion)\n"
   ]
  }
 ],
 "metadata": {
  "interpreter": {
   "hash": "9b54989d1a742a05404162503463416ca102e4e86ec2dd8bde8fc668aa5339ae"
  },
  "kernelspec": {
   "display_name": "Python 3.8.9 64-bit ('VirEn': venv)",
   "language": "python",
   "name": "python3"
  },
  "language_info": {
   "codemirror_mode": {
    "name": "ipython",
    "version": 3
   },
   "file_extension": ".py",
   "mimetype": "text/x-python",
   "name": "python",
   "nbconvert_exporter": "python",
   "pygments_lexer": "ipython3",
   "version": "3.8.9"
  },
  "orig_nbformat": 4
 },
 "nbformat": 4,
 "nbformat_minor": 2
}

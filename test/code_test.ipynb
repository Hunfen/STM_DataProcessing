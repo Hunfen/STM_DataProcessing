{
 "cells": [
  {
   "cell_type": "code",
   "execution_count": 1,
   "metadata": {},
   "outputs": [],
   "source": [
    "import os\n",
    "import re"
   ]
  },
  {
   "cell_type": "code",
   "execution_count": 64,
   "metadata": {},
   "outputs": [],
   "source": [
    "from typing import Union\n",
    "def is_number(s: str) -> Union[float, str]:\n",
    "    try:\n",
    "        return float(s)\n",
    "    except ValueError:\n",
    "        return s"
   ]
  },
  {
   "cell_type": "code",
   "execution_count": 2,
   "metadata": {},
   "outputs": [],
   "source": [
    "f_path: str = '/Users/hunfen/OneDrive/General Files/ゼミー/USM1500_Nanonis_data/2021-07-27/Topography004.sxm'"
   ]
  },
  {
   "cell_type": "code",
   "execution_count": 3,
   "metadata": {},
   "outputs": [],
   "source": [
    "class __Nanonis_sxm__:\n",
    "    \"\"\"[summary]\n",
    "\n",
    "    Returns:\n",
    "        [type]: [description]\n",
    "    \"\"\"\n",
    "    file_path: str\n",
    "    fname: str\n",
    "    raw_header: dict\n",
    "\n",
    "    # header: dict\n",
    "\n",
    "    def __init__(self, f_path: str) -> None:\n",
    "        self.file_path = os.path.split(f_path)[0]\n",
    "        self.fname = os.path.split(f_path)[1]\n",
    "        # self.__sxm_header_reform__(self.__sxm_header_reader__(f_path))\n",
    "        self.raw_header = self.__sxm_header_reader__(f_path)\n",
    "\n",
    "    def __sxm_header_reader__(self, f_path: str) -> dict:\n",
    "        \"\"\"[summary]\n",
    "\n",
    "        Args:\n",
    "            f_path (str): [description]\n",
    "\n",
    "        Returns:\n",
    "            dict: [description]\n",
    "        \"\"\"\n",
    "        entry: str = ''\n",
    "        contents: str = ''\n",
    "        raw_header: dict = {}\n",
    "        with open(f_path, 'rb') as f:  # read the .sxm file\n",
    "            header_end = False\n",
    "            while not header_end:\n",
    "                line = f.readline().decode(encoding='utf-8', errors='replace')\n",
    "                # if reach the end of header\n",
    "                if re.match(':SCANIT_END:\\n', line):\n",
    "                    header_end = True\n",
    "                # ':.+:' is the regex of the Nanonis .sxm file header entry.\n",
    "                elif re.match(':.+:', line):\n",
    "                    entry = line[1:-2]  # Read header_entry\n",
    "                    contents = ''  # Clear contents\n",
    "                else:  # Load entries & corresponding parameters into pre-defined dict\n",
    "                    contents += line\n",
    "                    raw_header[entry] = contents.strip('\\n')  # remove EOL\n",
    "        return raw_header"
   ]
  },
  {
   "cell_type": "code",
   "execution_count": 4,
   "metadata": {},
   "outputs": [],
   "source": [
    "a = __Nanonis_sxm__(f_path)"
   ]
  },
  {
   "cell_type": "code",
   "execution_count": 5,
   "metadata": {},
   "outputs": [
    {
     "data": {
      "text/plain": [
       "{'NANONIS_VERSION': '2',\n",
       " 'SCANIT_TYPE': '              FLOAT            MSBFIRST',\n",
       " 'REC_DATE': ' 27.07.2021',\n",
       " 'REC_TIME': '09:32:29',\n",
       " 'REC_TEMP': '      290.0000000000',\n",
       " 'ACQ_TIME': '      1023.8',\n",
       " 'SCAN_PIXELS': '       256       256',\n",
       " 'SCAN_FILE': 'C:\\\\Users\\\\Touru Hirahara\\\\Desktop\\\\data\\\\2021\\\\2021-07-26\\\\Topography004.sxm',\n",
       " 'SCAN_TIME': '             1.997E+0             1.997E+0',\n",
       " 'SCAN_RANGE': '           3.000000E-8           3.000000E-8',\n",
       " 'SCAN_OFFSET': '             4.372216E-8         1.874938E-7',\n",
       " 'SCAN_ANGLE': '            0.000E+0',\n",
       " 'SCAN_DIR': 'down',\n",
       " 'BIAS': '            1.000E+0',\n",
       " 'Z-CONTROLLER': '\\tName\\ton\\tSetpoint\\tP-gain\\tI-gain\\tT-const\\n\\tlog Current\\t1\\t3.000E-10 A\\t2.500E-12 m\\t1.000E-7 m/s\\t2.500E-5 s',\n",
       " 'COMMENT': '',\n",
       " 'Scan>Scanfield': '43.7222E-9;187.494E-9;30E-9;30E-9;0E+0',\n",
       " 'Scan>series name': 'Topography',\n",
       " 'Scan>channels': 'Current (A);Z (m);LI Demod 1 X (A);LI Demod 1 Y (A)',\n",
       " 'Scan>pixels/line': '256',\n",
       " 'Scan>lines': '256',\n",
       " 'Scan>speed forw. (m/s)': '15.024E-9',\n",
       " 'Scan>speed backw. (m/s)': '15.024E-9',\n",
       " 'DATA_INFO': '\\tChannel\\tName\\tUnit\\tDirection\\tCalibration\\tOffset\\n\\t14\\tZ\\tm\\tboth\\t1.330E-8\\t0.000E+0\\n\\t0\\tCurrent\\tA\\tboth\\t1.000E-10\\t2.348E-13\\n\\t17\\tLI_Demod_1_X\\tA\\tboth\\t1.000E-10\\t0.000E+0\\n\\t18\\tLI_Demod_1_Y\\tA\\tboth\\t1.000E-10\\t0.000E+0'}"
      ]
     },
     "execution_count": 5,
     "metadata": {},
     "output_type": "execute_result"
    }
   ],
   "source": [
    "a.raw_header"
   ]
  },
  {
   "cell_type": "code",
   "execution_count": 50,
   "metadata": {},
   "outputs": [],
   "source": [
    "b = list(a.raw_header.keys())"
   ]
  },
  {
   "cell_type": "code",
   "execution_count": null,
   "metadata": {},
   "outputs": [],
   "source": []
  },
  {
   "cell_type": "code",
   "execution_count": 56,
   "metadata": {},
   "outputs": [],
   "source": [
    "scan_info = ['ACQ_TIME', 'BIAS', 'Scan>lines', 'Scan>pixels/line', 'Scan>speed backw. (m/s)', 'Scan>speed forw. (m/s)', 'COMMENT', 'REC_DATE', 'REC_TIME', 'SCAN_DIR', 'SCAN_FILE']\n",
    "test = {}\n",
    "\n",
    "for i in enumerate(b):\n",
    "    if i[1] in scan_info:\n",
    "        test[i[1]] = is_number(a.raw_header[i[1]].strip(' '))\n",
    "        "
   ]
  },
  {
   "cell_type": "code",
   "execution_count": 57,
   "metadata": {},
   "outputs": [
    {
     "data": {
      "text/plain": [
       "{'REC_DATE': '27.07.2021',\n",
       " 'REC_TIME': '09:32:29',\n",
       " 'ACQ_TIME': 1023.8,\n",
       " 'SCAN_FILE': 'C:\\\\Users\\\\Touru Hirahara\\\\Desktop\\\\data\\\\2021\\\\2021-07-26\\\\Topography004.sxm',\n",
       " 'SCAN_DIR': 'down',\n",
       " 'BIAS': 1.0,\n",
       " 'COMMENT': '',\n",
       " 'Scan>pixels/line': 256.0,\n",
       " 'Scan>lines': 256.0,\n",
       " 'Scan>speed forw. (m/s)': 1.5024e-08,\n",
       " 'Scan>speed backw. (m/s)': 1.5024e-08}"
      ]
     },
     "execution_count": 57,
     "metadata": {},
     "output_type": "execute_result"
    }
   ],
   "source": [
    "test"
   ]
  },
  {
   "cell_type": "code",
   "execution_count": 52,
   "metadata": {},
   "outputs": [],
   "source": [
    "z_controller = a.raw_header['Z-CONTROLLER'].split('\\n')"
   ]
  },
  {
   "cell_type": "code",
   "execution_count": 53,
   "metadata": {},
   "outputs": [
    {
     "data": {
      "text/plain": [
       "['\\tName\\ton\\tSetpoint\\tP-gain\\tI-gain\\tT-const',\n",
       " '\\tlog Current\\t1\\t3.000E-10 A\\t2.500E-12 m\\t1.000E-7 m/s\\t2.500E-5 s']"
      ]
     },
     "execution_count": 53,
     "metadata": {},
     "output_type": "execute_result"
    }
   ],
   "source": [
    "z_controller"
   ]
  },
  {
   "cell_type": "code",
   "execution_count": 60,
   "metadata": {},
   "outputs": [
    {
     "data": {
      "text/plain": [
       "['Name', 'on', 'Setpoint', 'P-gain', 'I-gain', 'T-const']"
      ]
     },
     "execution_count": 60,
     "metadata": {},
     "output_type": "execute_result"
    }
   ],
   "source": [
    "a.raw_header['Z-CONTROLLER'].split('\\n')[0].strip('\\t').split('\\t')"
   ]
  },
  {
   "cell_type": "code",
   "execution_count": 58,
   "metadata": {},
   "outputs": [
    {
     "data": {
      "text/plain": [
       "['log Current',\n",
       " '1',\n",
       " '3.000E-10 A',\n",
       " '2.500E-12 m',\n",
       " '1.000E-7 m/s',\n",
       " '2.500E-5 s']"
      ]
     },
     "execution_count": 58,
     "metadata": {},
     "output_type": "execute_result"
    }
   ],
   "source": [
    "a.raw_header['Z-CONTROLLER'].split('\\n')[1].strip('\\t').split('\\t')"
   ]
  },
  {
   "cell_type": "code",
   "execution_count": 6,
   "metadata": {},
   "outputs": [
    {
     "data": {
      "text/plain": [
       "['Channel', 'Name', 'Unit', 'Direction', 'Calibration', 'Offset']"
      ]
     },
     "execution_count": 6,
     "metadata": {},
     "output_type": "execute_result"
    }
   ],
   "source": [
    "a.raw_header['DATA_INFO'].split('\\n')[0].strip('\\t').split('\\t')"
   ]
  },
  {
   "cell_type": "code",
   "execution_count": 13,
   "metadata": {},
   "outputs": [
    {
     "data": {
      "text/plain": [
       "['\\tChannel\\tName\\tUnit\\tDirection\\tCalibration\\tOffset',\n",
       " '\\t14\\tZ\\tm\\tboth\\t1.330E-8\\t0.000E+0',\n",
       " '\\t0\\tCurrent\\tA\\tboth\\t1.000E-10\\t2.348E-13',\n",
       " '\\t17\\tLI_Demod_1_X\\tA\\tboth\\t1.000E-10\\t0.000E+0',\n",
       " '\\t18\\tLI_Demod_1_Y\\tA\\tboth\\t1.000E-10\\t0.000E+0']"
      ]
     },
     "execution_count": 13,
     "metadata": {},
     "output_type": "execute_result"
    }
   ],
   "source": [
    "a.raw_header['DATA_INFO'].split('\\n')"
   ]
  },
  {
   "cell_type": "code",
   "execution_count": 15,
   "metadata": {},
   "outputs": [
    {
     "data": {
      "text/plain": [
       "['Channel', 'Name', 'Unit', 'Direction', 'Calibration', 'Offset']"
      ]
     },
     "execution_count": 15,
     "metadata": {},
     "output_type": "execute_result"
    }
   ],
   "source": [
    "a.raw_header['DATA_INFO'].split('\\n')[0].strip('\\t').split('\\t')"
   ]
  },
  {
   "cell_type": "code",
   "execution_count": 17,
   "metadata": {},
   "outputs": [
    {
     "name": "stdout",
     "output_type": "stream",
     "text": [
      "1\n",
      "2\n"
     ]
    }
   ],
   "source": [
    "for i in range(1, 3):\n",
    "    print(i)"
   ]
  },
  {
   "cell_type": "code",
   "execution_count": 33,
   "metadata": {},
   "outputs": [],
   "source": [
    "    data_info: dict = {}\n",
    "    raw_data_info: dict = a.raw_header['DATA_INFO'].split('\\n')\n",
    "    config = raw_data_info[0].strip('\\t').split('\\t')\n",
    "    for i in range(1, len(raw_data_info)):\n",
    "        channel_info: dict = {\n",
    "        }  # Initialization of dict channel information\n",
    "        name: str = ''  # Initialization of dict channel name\n",
    "        for j in range(len(config)):\n",
    "            if config[j] == 'Name':\n",
    "                name: str = raw_data_info[i].strip('\\t').split('\\t')[j]\n",
    "            else:\n",
    "                channel_info[config[j]] = raw_data_info[i].strip('\\t').split('\\t')[j]\n",
    "        data_info[name] = channel_info\n"
   ]
  },
  {
   "cell_type": "code",
   "execution_count": 61,
   "metadata": {},
   "outputs": [],
   "source": []
  },
  {
   "cell_type": "code",
   "execution_count": 63,
   "metadata": {},
   "outputs": [],
   "source": []
  },
  {
   "cell_type": "code",
   "execution_count": 47,
   "metadata": {},
   "outputs": [
    {
     "data": {
      "text/plain": [
       "'asfu'"
      ]
     },
     "execution_count": 47,
     "metadata": {},
     "output_type": "execute_result"
    }
   ],
   "source": [
    "is_number('asfu')"
   ]
  },
  {
   "cell_type": "code",
   "execution_count": 59,
   "metadata": {},
   "outputs": [
    {
     "data": {
      "text/plain": [
       "['43.7222E-9', '187.494E-9', '30E-9', '30E-9', '0E+0']"
      ]
     },
     "execution_count": 59,
     "metadata": {},
     "output_type": "execute_result"
    }
   ],
   "source": [
    "a.raw_header['Scan>Scanfield'].split(';')"
   ]
  },
  {
   "cell_type": "code",
   "execution_count": 60,
   "metadata": {},
   "outputs": [
    {
     "data": {
      "text/plain": [
       "[4.37222e-08, 1.87494e-07, 3e-08, 3e-08, 0.0]"
      ]
     },
     "execution_count": 60,
     "metadata": {},
     "output_type": "execute_result"
    }
   ],
   "source": [
    "[float(j) for j in a.raw_header['Scan>Scanfield'].split(';')]"
   ]
  },
  {
   "cell_type": "code",
   "execution_count": null,
   "metadata": {},
   "outputs": [],
   "source": []
  }
 ],
 "metadata": {
  "interpreter": {
   "hash": "9b54989d1a742a05404162503463416ca102e4e86ec2dd8bde8fc668aa5339ae"
  },
  "kernelspec": {
   "display_name": "Python 3.8.9 64-bit ('VirEn': venv)",
   "language": "python",
   "name": "python3"
  },
  "language_info": {
   "codemirror_mode": {
    "name": "ipython",
    "version": 3
   },
   "file_extension": ".py",
   "mimetype": "text/x-python",
   "name": "python",
   "nbconvert_exporter": "python",
   "pygments_lexer": "ipython3",
   "version": "3.8.9"
  },
  "orig_nbformat": 4
 },
 "nbformat": 4,
 "nbformat_minor": 2
}
